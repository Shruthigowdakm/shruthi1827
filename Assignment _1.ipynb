{
 "cells": [
  {
   "cell_type": "markdown",
   "id": "4495574b",
   "metadata": {},
   "source": [
    "1. In the below elements which of them are values or an expression? eg:- values can be\n",
    "integer or string and expressions will be mathematical operators.\n",
    "*\n",
    "'hello'\n",
    "-87.8\n",
    "-\n",
    "/\n",
    "+\n",
    "6\n",
    "\n",
    "\n",
    "Ans:\n",
    "    \n",
    "Values:\n",
    "    \n",
    ". 'hello' (string)\n",
    "    \n",
    ". -87.8 (floating point number)\n",
    "\n",
    ". 6  (integer)\n",
    "\n",
    "Expressions:\n",
    "    \n",
    ". * (multiplication operator)\n",
    "\n",
    ". - (substraction operator )\n",
    "\n",
    ". /  (division operator )\n",
    "\n",
    ".+   (addition operator)\n",
    "\n",
    "Values represent specific data,such as strings or numbers,\n",
    "whereas expression involve operators and can perform calculations\n",
    "or manipulate values."
   ]
  },
  {
   "cell_type": "markdown",
   "id": "1afdf6a8",
   "metadata": {},
   "source": [
    "2. What is the difference between string and variable?\n",
    "\n",
    "Ans:\n",
    "    \n",
    "    . String:\n",
    "        A string is a data type used to represent a sequence of characters.\n",
    "    It is typically used to store the data manupulate textual data.In most\n",
    "    programming language , a string is enclosed in quotation marks ,either \n",
    "    single('') or double(\"\").\n",
    "    For example, \"Hello,World!\"  is a string.\n",
    "    \n",
    "    . Variable:\n",
    "        A Variable is a named storage location in a computer memory that \n",
    "    hold a value.Variables are used to store and manipulate data in program.\n",
    "    They have a name and a data type ,and their value can change during the \n",
    "    execcution of the program.\n",
    "    \n",
    "    For exampl,\n",
    "       messsage = \"Hello,World!\"\n",
    "        In this case variable \"message \" is of type string, and values is the\n",
    "        string \"Hello,World!\"\n",
    "    "
   ]
  },
  {
   "cell_type": "markdown",
   "id": "c3ed2e90",
   "metadata": {
    "collapsed": true
   },
   "source": [
    "3. Describe three different data types.\n",
    "\n",
    "Ans:\n",
    "    1. Integer(int):\n",
    "         An integer represents whole number without any fractional or decimal parts.It can be positive ,negative, or zero.\n",
    "        Integers can be manupulate using basic arithmatic operations such as addition ,substraction, multiplication,and \n",
    "        division.They are commonly used for counting,indexing,and performing mathematical calculations that do not require\n",
    "        deccimal precision.\n",
    "        \n",
    "        Example:  integer_value = 10\n",
    "            \n",
    "    2. Floating point(float):\n",
    "          A floating point data type represents numbers with a fractional component.It is used when precision and decimal values \n",
    "        are required.Floating point numbers can represent wide range of values,including very small and very large nummbers.\n",
    "        They can manupulate using arithmetic operations like integer.\n",
    "        \n",
    "        Example: float_value = 3.14\n",
    "            \n",
    "    3. String:\n",
    "          A string data type represent a sequence of characters.It is used to store and manipulate textual data.Strings can \n",
    "        contain letter,digits,symbols,spaces, and special characters.They can be concated ,split,searched and manupulatesd using \n",
    "        various string operations.\n",
    "        \n",
    "        Example: string_value = \"Rangnath\"\n"
   ]
  },
  {
   "cell_type": "markdown",
   "id": "de4d49be",
   "metadata": {},
   "source": [
    "4. What is an expression made up of? What do all expressions do?\n",
    "\n",
    "Ans:\n",
    "     An expression is a combination of values and operators.\n",
    "All expression evaluate (that is, reduce) to a single value."
   ]
  },
  {
   "cell_type": "markdown",
   "id": "9385ce0d",
   "metadata": {},
   "source": [
    "5. This assignment statements, like spam = 10. What is the difference between an\n",
    "expression and a statement?\n",
    "\n",
    "Ans:\n",
    "    An expression evaluate to a single value.\n",
    "    \n",
    "    A statement does not."
   ]
  },
  {
   "cell_type": "markdown",
   "id": "3baa7479",
   "metadata": {},
   "source": [
    "6. After running the following code, what does the variable bacon contain?\n",
    "bacon = 22\n",
    "bacon + 1\n",
    "\n",
    "Ans:\n",
    "     The bacon variable is set to 22.The bacon + 1 expression does not reassign the\n",
    "    value in bacon (that would need an assignment statement: bacon = bacon + 1)\n",
    "    "
   ]
  },
  {
   "cell_type": "markdown",
   "id": "7f01f823",
   "metadata": {},
   "source": [
    "7. What should the values of the following two terms be?\n",
    "'spam'+'spamspam'\n",
    "'spam'*3\n",
    "\n",
    "Ans:\n",
    "    Both expression evaluate to the string\n",
    "    'spamspamspam'"
   ]
  },
  {
   "cell_type": "markdown",
   "id": "90eef502",
   "metadata": {},
   "source": [
    "8. Why is eggs a valid variable name while 100 is invalid?\n",
    "\n",
    "Ans:\n",
    "    Variable cannot begin with a number"
   ]
  },
  {
   "cell_type": "markdown",
   "id": "55806687",
   "metadata": {},
   "source": [
    "9. What three functions can be used to get the integer, floating-point number, or string\n",
    "version of a value?\n",
    "\n",
    "Ans:\n",
    "      The int(),float(),and str() functions will evaluate to the integer,floating point number,\n",
    "    and string versionof the value passed to them"
   ]
  },
  {
   "cell_type": "markdown",
   "id": "2fd0e398",
   "metadata": {},
   "source": [
    "10. Why does this expression cause an error? How can you fix it?\n",
    "'I have eaten'+99+'burritos.'\n",
    "\n",
    "Ans:\n",
    "     The expression cause an error becaue 99 is an integer ,and only strings can be concatenated\n",
    "    to other strings with the + operator.The correct way is \n",
    "      'I have eaten' + str(99)+ 'burritos'."
   ]
  }
 ],
 "metadata": {
  "kernelspec": {
   "display_name": "Python 3 (ipykernel)",
   "language": "python",
   "name": "python3"
  },
  "language_info": {
   "codemirror_mode": {
    "name": "ipython",
    "version": 3
   },
   "file_extension": ".py",
   "mimetype": "text/x-python",
   "name": "python",
   "nbconvert_exporter": "python",
   "pygments_lexer": "ipython3",
   "version": "3.10.9"
  }
 },
 "nbformat": 4,
 "nbformat_minor": 5
}
