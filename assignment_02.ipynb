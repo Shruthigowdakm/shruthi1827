{
 "cells": [
  {
   "cell_type": "markdown",
   "id": "231d4af4",
   "metadata": {},
   "source": [
    "1.What are the two values of the Boolean data type? How do you write them?\n",
    "\n",
    "Ans:\n",
    "    A boolean is a data type with two possible values:True(1) and False(0),\n",
    "        using T and F,with the rest of the word in lowercase.\n",
    "\n"
   ]
  },
  {
   "cell_type": "markdown",
   "id": "ac700eed",
   "metadata": {},
   "source": [
    "2. What are the three different types of Boolean operators?\n",
    "\n",
    "Ans:\n",
    "     There are three logical operatorsthat are used to compare values.They evaluate \n",
    "    expression down to Boolean values,returning either True or False.These operators \n",
    "    are and ,or and not .\n"
   ]
  },
  {
   "cell_type": "markdown",
   "id": "98b43ae9",
   "metadata": {},
   "source": [
    "3. Make a list of each Boolean operators truth tables (i.e. every possible combination of Boolean\n",
    "values for the operator and what it evaluate ).\n",
    "\n",
    "Ans:\n",
    "      And table                            Truth table for AND\n",
    "        \n",
    "                                            A   B    output \n",
    "            \n",
    "    True and True is True.                  1   1      1  \n",
    "    \n",
    "    True and False is False.                1   0      0\n",
    "    \n",
    "    False and True is False.                0   1      0\n",
    "    \n",
    "    False and False is False.               0   0      0               \n",
    "    \n",
    "      or                                  Truth table for OR\n",
    "        \n",
    "                                            A   B   output\n",
    "        \n",
    "    True or True is True.                   1   1     1\n",
    "    \n",
    "    True or False is True.                  1   0     1\n",
    "    \n",
    "    False or True is True.                  0   1     1\n",
    "    \n",
    "    False or False is False.                0   0     0\n",
    "    \n",
    "     not table                            Truth table for NOT\n",
    "        \n",
    "                                            A     output\n",
    "            \n",
    "    not True is False                       1       0                      \n",
    "    \n",
    "    not False is True                       0       1\n",
    "    "
   ]
  },
  {
   "cell_type": "markdown",
   "id": "5066a1f8",
   "metadata": {},
   "source": [
    "4. What are the values of the following expressions?\n",
    "(5>4) and (3 == 5)\n",
    "not (5>4)\n",
    "(5>4) or (3 == 5)\n",
    "not ((5>4) or (3 == 5))\n",
    "(True and True) and (True == False)\n",
    "(not False) or (not True)\n",
    "\n",
    "Ans:\n",
    "    \n",
    "                (5>4) and (3 == 5) = False\n",
    "\n",
    "                       not (5>4)   = False\n",
    "    \n",
    "                (5>4) or (3 == 5)  = True\n",
    "\n",
    "           not ((5>4) or (3 == 5)) = False\n",
    "\n",
    "(True and True) and (True == False) = False\n",
    "\n",
    "          (not False) or (not True) = True\n",
    " "
   ]
  },
  {
   "cell_type": "markdown",
   "id": "3bfd7bd8",
   "metadata": {},
   "source": [
    "5. What are the six comparison operators?\n",
    "\n",
    "Ans:\n",
    "    We hav e a six of these,including and limited to-\n",
    "    \n",
    "    1.less than(<)\n",
    "    \n",
    "    2.greater than(>)\n",
    "    \n",
    "    3.less than or equal to(<=)\n",
    "    \n",
    "    4.greater than or equal to(>=)\n",
    "    \n",
    "    5.equal to (==)\n",
    "    \n",
    "    6.not equal to(!=)\n",
    "    "
   ]
  },
  {
   "cell_type": "markdown",
   "id": "46f55b96",
   "metadata": {},
   "source": [
    "6. How do you tell the difference between the equal to and assignment operators?Describe a\n",
    "condition and when you would use one.\n",
    "\n",
    "Ans:\n",
    "     1.Equal operator('=='):\n",
    "            \n",
    "            The eqal operator (==) is used for comparing the equality of two values or expressions.\n",
    "    It returns 'true' if values are equal and 'false ' if they are not equal.\n",
    "    \n",
    "     2. Assignment operator('='):\n",
    "            \n",
    "            The assignment operator ('=') is used assign a value to a variable.It takes the value on\n",
    "        the right-hand side and assign tit to the variable on the left-hand side.\n",
    "        \n",
    "        In summary, the equal to operator ('==') is for comparing equality,\n",
    "    while the assignment operator ('=') is for assigning values to variable."
   ]
  },
  {
   "cell_type": "markdown",
   "id": "37524430",
   "metadata": {},
   "source": [
    "7. Identify the three blocks in this code:\n",
    "spam = 0\n",
    "if spam == 10:\n",
    "print('eggs')\n",
    "if spam > 5:\n",
    "print('bacon')\n",
    "else:\n",
    "print('ham')\n",
    "print('spam')\n",
    "print('spam')\n",
    "\n",
    "Ans:\n",
    "    \n",
    "    1.Block 1: The 'if spam == 10'block.\n",
    "        \n",
    "    2.Block 2: The 'if spam > 5' block\n",
    "    (with 'pass'statement).\n",
    "    \n",
    "    3.Block 3: the 'else'block\n",
    "        associated with the second 'if' statement.  "
   ]
  },
  {
   "cell_type": "markdown",
   "id": "ead96db5",
   "metadata": {},
   "source": [
    "8. Write code that prints Hello if 1 is stored in spam, prints Howdy if 2 is stored in spam, and prints\n",
    "Greetings! if anything else is stored in spam.\n",
    "\n",
    "Ans:\n",
    "    \n",
    "if spam == 1:\n",
    "    print(\"Hello\")\n",
    "elif spam == 2:\n",
    "    print(\"howdy\")\n",
    "else:\n",
    "    print(\"Greetings!\")"
   ]
  },
  {
   "cell_type": "markdown",
   "id": "da40b3b7",
   "metadata": {},
   "source": [
    "9.If your programme is stuck in an endless loop, what keys you’ll press?\n",
    "\n",
    "Ans:\n",
    "    \n",
    "    Press CTRL-C to stop a program stuck in an infinite loop.\n",
    "    "
   ]
  },
  {
   "cell_type": "markdown",
   "id": "f9ca7694",
   "metadata": {},
   "source": [
    "10. How can you tell the difference between break and continue?\n",
    "\n",
    "Ans:\n",
    "    \n",
    "    Break:\n",
    "        \n",
    "        .In the break statement,the control exits from the loop.\n",
    "        \n",
    "        .It is used to stop the execution of the loop at a specific condition.\n",
    "        \n",
    "    Continue:\n",
    "        \n",
    "        .In the continue statement,the control remains within the loop.\n",
    "        \n",
    "        .It is used to skip a particular iteration of the loop."
   ]
  },
  {
   "cell_type": "markdown",
   "id": "11f77355",
   "metadata": {},
   "source": [
    "11. In a for loop, what is the difference between range(10), range(0, 10), and range(0, 10, 1)?\n",
    "\n",
    "Ans:\n",
    "    \n",
    "     1.   'range(10)':\n",
    "            This creates a sequence of numbers starting from 0 and going up to,\n",
    "        but not including,10.It is equivalent to 'range(0, 10, 1).'\n",
    "    \n",
    "     2. 'range(0, 10)':\n",
    "            This explicitly specifies the starting the starting value (0) and the\n",
    "        ending value (10) of the sequence.The step size is assumed to be 1 byb default.\n",
    "      \n",
    "     3.'range(0,10,1)':\n",
    "            This is the same as 'range(0,10)' because the step size is set to by default.\n",
    "        It generates a sequence starting from 0 and ending before 10,incrementing by 1 each time."
   ]
  },
  {
   "cell_type": "code",
   "execution_count": 1,
   "id": "5ad7dc52",
   "metadata": {},
   "outputs": [
    {
     "name": "stdout",
     "output_type": "stream",
     "text": [
      "1\n",
      "2\n",
      "3\n",
      "4\n",
      "5\n",
      "6\n",
      "7\n",
      "8\n",
      "9\n",
      "10\n",
      "1\n",
      "2\n",
      "3\n",
      "4\n",
      "5\n",
      "6\n",
      "7\n",
      "8\n",
      "9\n",
      "10\n"
     ]
    }
   ],
   "source": [
    "12.write a short program that prints the number 1 to 10 using a for loprogram that prints the numbers 1 to 10\n",
    "using a while loop.\n",
    "\n",
    "Ans:\n",
    "\n",
    "for i in range(1,11):\n",
    "    print(i)\n",
    "i=1\n",
    "while i <= 10:\n",
    "    print(i)\n",
    "    i += 1\n"
   ]
  },
  {
   "cell_type": "markdown",
   "id": "9971683c",
   "metadata": {},
   "source": [
    "13. If you had a function named bacon() inside a module named spam, how would you call it after\n",
    "importing spam?\n",
    "\n",
    "Ans:\n",
    "    This function can be called with \n",
    "    \n",
    "    spam.bacon()."
   ]
  }
 ],
 "metadata": {
  "kernelspec": {
   "display_name": "Python 3 (ipykernel)",
   "language": "python",
   "name": "python3"
  },
  "language_info": {
   "codemirror_mode": {
    "name": "ipython",
    "version": 3
   },
   "file_extension": ".py",
   "mimetype": "text/x-python",
   "name": "python",
   "nbconvert_exporter": "python",
   "pygments_lexer": "ipython3",
   "version": "3.10.9"
  }
 },
 "nbformat": 4,
 "nbformat_minor": 5
}
